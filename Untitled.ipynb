{
 "cells": [
  {
   "cell_type": "markdown",
   "metadata": {},
   "source": [
    "# AQM Assignment 3"
   ]
  },
  {
   "cell_type": "markdown",
   "metadata": {},
   "source": [
    "### Monte-Carlo Simulation"
   ]
  },
  {
   "cell_type": "code",
   "execution_count": null,
   "metadata": {},
   "outputs": [],
   "source": [
    "import numpy as np\n",
    "accrate=0.0\n",
    "N_t=120\n",
    "path=np.zeros(N_t,dtype=float)\n",
    "h=5\n",
    "m=1\n",
    "w=1\n",
    "t_plu=0\n",
    "t_min=0\n",
    "x_new=0\n",
    "s_old=0\n",
    "s_new=0.0\n",
    "idrate=0.8\n",
    "\n",
    "index=np.random.randint(0,N_t,N_t)\n",
    "randm=np.random.random(2*N_t)\n",
    "\n",
    "for i in range(N_t):\n",
    "    t=index[i]\n",
    "    t_min=(t+N_t-1)%N_t\n",
    "    t_plu=(t+1)%N_t\n",
    "    x_new=path[t] + h*(randm[i]-0.5)\n",
    "#     print(x_new)\n",
    "    s_old=m*0.5*(path[t_plu]-path[t])**2 + m*0.5*(path[t]-path[t_min])**2 + m*0.5**w*w*(path[t])**2\n",
    "    s_new=m*0.5*(path[t_plu]-x_new)**2 + m*0.5*(x_new-path[t_min])**2 + m*0.5**w*w*(x_new)**2\n",
    "#         print(s_new,s_old,i,\"ll\")\n",
    "    if(randm[N_t + i]<np.exp(-s_new + s_old)):\n",
    "        path[t]=x_new\n",
    "        accrate=accrate + 1/N_t\n",
    "#             print(x_new)\n",
    "\n",
    "h=(h*accrate)/idrate\n",
    "\n",
    "\n",
    "\n",
    "# print(path)"
   ]
  },
  {
   "cell_type": "code",
   "execution_count": 2,
   "metadata": {},
   "outputs": [
    {
     "ename": "KeyboardInterrupt",
     "evalue": "",
     "output_type": "error",
     "traceback": [
      "\u001b[0;31m---------------------------------------------------------------------------\u001b[0m",
      "\u001b[0;31mKeyboardInterrupt\u001b[0m                         Traceback (most recent call last)",
      "\u001b[0;32m<ipython-input-2-8301f4c6c0fd>\u001b[0m in \u001b[0;36m<module>\u001b[0;34m\u001b[0m\n\u001b[1;32m     30\u001b[0m         \u001b[0mx_new\u001b[0m\u001b[0;34m=\u001b[0m\u001b[0mpath\u001b[0m\u001b[0;34m[\u001b[0m\u001b[0mt\u001b[0m\u001b[0;34m]\u001b[0m \u001b[0;34m+\u001b[0m \u001b[0mh\u001b[0m\u001b[0;34m*\u001b[0m\u001b[0;34m(\u001b[0m\u001b[0mrandm\u001b[0m\u001b[0;34m[\u001b[0m\u001b[0mi\u001b[0m\u001b[0;34m]\u001b[0m\u001b[0;34m-\u001b[0m\u001b[0;36m0.5\u001b[0m\u001b[0;34m)\u001b[0m\u001b[0;34m\u001b[0m\u001b[0;34m\u001b[0m\u001b[0m\n\u001b[1;32m     31\u001b[0m \u001b[0;31m#         print(x_new)\u001b[0m\u001b[0;34m\u001b[0m\u001b[0;34m\u001b[0m\u001b[0;34m\u001b[0m\u001b[0m\n\u001b[0;32m---> 32\u001b[0;31m         \u001b[0ms_old\u001b[0m\u001b[0;34m=\u001b[0m\u001b[0mm\u001b[0m\u001b[0;34m*\u001b[0m\u001b[0;36m0.5\u001b[0m\u001b[0;34m*\u001b[0m\u001b[0;34m(\u001b[0m\u001b[0;34m(\u001b[0m\u001b[0mpath\u001b[0m\u001b[0;34m[\u001b[0m\u001b[0mt_plu\u001b[0m\u001b[0;34m]\u001b[0m\u001b[0;34m-\u001b[0m\u001b[0mpath\u001b[0m\u001b[0;34m[\u001b[0m\u001b[0mt\u001b[0m\u001b[0;34m]\u001b[0m\u001b[0;34m)\u001b[0m\u001b[0;34m**\u001b[0m\u001b[0;36m2\u001b[0m\u001b[0;34m)\u001b[0m \u001b[0;34m+\u001b[0m \u001b[0mm\u001b[0m\u001b[0;34m*\u001b[0m\u001b[0;36m0.5\u001b[0m\u001b[0;34m*\u001b[0m\u001b[0;34m(\u001b[0m\u001b[0;34m(\u001b[0m\u001b[0mpath\u001b[0m\u001b[0;34m[\u001b[0m\u001b[0mt\u001b[0m\u001b[0;34m]\u001b[0m\u001b[0;34m-\u001b[0m\u001b[0mpath\u001b[0m\u001b[0;34m[\u001b[0m\u001b[0mt_min\u001b[0m\u001b[0;34m]\u001b[0m\u001b[0;34m)\u001b[0m\u001b[0;34m**\u001b[0m\u001b[0;36m2\u001b[0m\u001b[0;34m)\u001b[0m \u001b[0;34m+\u001b[0m \u001b[0mm\u001b[0m\u001b[0;34m*\u001b[0m\u001b[0;36m0.5\u001b[0m\u001b[0;34m*\u001b[0m\u001b[0mw\u001b[0m\u001b[0;34m*\u001b[0m\u001b[0mw\u001b[0m\u001b[0;34m*\u001b[0m\u001b[0;34m(\u001b[0m\u001b[0;34m(\u001b[0m\u001b[0mpath\u001b[0m\u001b[0;34m[\u001b[0m\u001b[0mt\u001b[0m\u001b[0;34m]\u001b[0m\u001b[0;34m)\u001b[0m\u001b[0;34m**\u001b[0m\u001b[0;36m2\u001b[0m\u001b[0;34m)\u001b[0m\u001b[0;34m\u001b[0m\u001b[0;34m\u001b[0m\u001b[0m\n\u001b[0m\u001b[1;32m     33\u001b[0m         \u001b[0ms_new\u001b[0m\u001b[0;34m=\u001b[0m\u001b[0mm\u001b[0m\u001b[0;34m*\u001b[0m\u001b[0;36m0.5\u001b[0m\u001b[0;34m*\u001b[0m\u001b[0;34m(\u001b[0m\u001b[0;34m(\u001b[0m\u001b[0mpath\u001b[0m\u001b[0;34m[\u001b[0m\u001b[0mt_plu\u001b[0m\u001b[0;34m]\u001b[0m\u001b[0;34m-\u001b[0m\u001b[0mx_new\u001b[0m\u001b[0;34m)\u001b[0m\u001b[0;34m**\u001b[0m\u001b[0;36m2\u001b[0m\u001b[0;34m)\u001b[0m \u001b[0;34m+\u001b[0m \u001b[0mm\u001b[0m\u001b[0;34m*\u001b[0m\u001b[0;36m0.5\u001b[0m\u001b[0;34m*\u001b[0m\u001b[0;34m(\u001b[0m\u001b[0;34m(\u001b[0m\u001b[0mx_new\u001b[0m\u001b[0;34m-\u001b[0m\u001b[0mpath\u001b[0m\u001b[0;34m[\u001b[0m\u001b[0mt_min\u001b[0m\u001b[0;34m]\u001b[0m\u001b[0;34m)\u001b[0m\u001b[0;34m**\u001b[0m\u001b[0;36m2\u001b[0m\u001b[0;34m)\u001b[0m \u001b[0;34m+\u001b[0m \u001b[0mm\u001b[0m\u001b[0;34m*\u001b[0m\u001b[0;36m0.5\u001b[0m\u001b[0;34m*\u001b[0m\u001b[0mw\u001b[0m\u001b[0;34m*\u001b[0m\u001b[0mw\u001b[0m\u001b[0;34m*\u001b[0m\u001b[0;34m(\u001b[0m\u001b[0mx_new\u001b[0m\u001b[0;34m)\u001b[0m\u001b[0;34m**\u001b[0m\u001b[0;36m2\u001b[0m\u001b[0;34m\u001b[0m\u001b[0;34m\u001b[0m\u001b[0m\n\u001b[1;32m     34\u001b[0m \u001b[0;31m#         print(s_new,s_old,i,\"ll\")\u001b[0m\u001b[0;34m\u001b[0m\u001b[0;34m\u001b[0m\u001b[0;34m\u001b[0m\u001b[0m\n",
      "\u001b[0;31mKeyboardInterrupt\u001b[0m: "
     ]
    }
   ],
   "source": [
    "import numpy as np\n",
    "import matplotlib.pyplot as plt\n",
    "\n",
    "N_sweep=10000\n",
    "x2av=[]\n",
    "x=[]\n",
    "x3av=[]\n",
    "accrate=0.0\n",
    "N_t=1200\n",
    "path=np.zeros(N_t,dtype=float)\n",
    "h=1\n",
    "m=0.1\n",
    "w=0.1\n",
    "t_plu=0\n",
    "t_min=0\n",
    "x_new=0\n",
    "s_old=0.0\n",
    "s_new=0.0\n",
    "idrate=0.8\n",
    "for n in range(N_sweep):\n",
    "    accrate=0.0\n",
    "    index=np.random.randint(0,N_t,N_t)\n",
    "    randm=np.random.random(2*N_t)\n",
    "#     print(index)\n",
    "#     print(randm)\n",
    "    for i in range(N_t):\n",
    "        t=index[i]\n",
    "        t_min=(t+N_t-1)%N_t\n",
    "        t_plu=(t+1)%N_t\n",
    "        x_new=path[t] + h*(randm[i]-0.5)\n",
    "#         print(x_new)\n",
    "        s_old=m*0.5*((path[t_plu]-path[t])**2) + m*0.5*((path[t]-path[t_min])**2) + m*0.5*w*w*((path[t])**2)\n",
    "        s_new=m*0.5*((path[t_plu]-x_new)**2) + m*0.5*((x_new-path[t_min])**2) + m*0.5*w*w*(x_new)**2\n",
    "#         print(s_new,s_old,i,\"ll\")\n",
    "        if(randm[N_t + i]<np.exp(-s_new + s_old)):\n",
    "            path[t]=x_new\n",
    "            accrate=accrate + 1.0/N_t\n",
    "#             print(accrate)\n",
    "\n",
    "    h=(h*accrate)/idrate\n",
    "#     print(\"h is\",h,\"acc\",accrate)\n",
    "    x2av.append(np.mean(path**2))\n",
    "    x3av.append(np.mean(path**3))\n",
    "    \n",
    "\n",
    "# print(h)\n",
    "time=np.arange(0,N_sweep)\n",
    "plt.plot(time,x2av,\"*\")\n",
    "plt.show()\n",
    "\n",
    "plt.figure()\n",
    "plt.plot(time,x3av,\"*\")\n",
    "plt.show()\n",
    "\n",
    "\n",
    "# \"\"\"Data analysis\"\"\"\n",
    "# p=100\n",
    "# x2av=x2av[200:]/100\n",
    "# x3av=x3av[200:]/100\n",
    "\n",
    "# x2=[]\n",
    "# x3=[]\n",
    "\n",
    "# for i in range(p):\n",
    "#     x2.append(np.sum(x2av[i:i+p])/p)\n",
    "#     x3.append(np.sum(x3av[i:i+p])/p)\n",
    "\n",
    "# plt.figure()\n",
    "# # eff_time=range(0,len(x2))\n",
    "# # plt.plot(eff_time,x2,\"o\")\n",
    "# plt.hist(x)"
   ]
  },
  {
   "cell_type": "code",
   "execution_count": 28,
   "metadata": {},
   "outputs": [
    {
     "data": {
      "text/plain": [
       "array([0.36111305, 0.43932299, 0.25904432, 0.04128591, 0.73975416,\n",
       "       0.36830206, 0.45900186, 0.3729233 , 0.44622461, 0.25571899])"
      ]
     },
     "execution_count": 28,
     "metadata": {},
     "output_type": "execute_result"
    }
   ],
   "source": [
    "import numpy as np \n",
    "np.random.random(10)"
   ]
  },
  {
   "cell_type": "code",
   "execution_count": null,
   "metadata": {},
   "outputs": [],
   "source": []
  }
 ],
 "metadata": {
  "kernelspec": {
   "display_name": "Python 3",
   "language": "python",
   "name": "python3"
  },
  "language_info": {
   "codemirror_mode": {
    "name": "ipython",
    "version": 3
   },
   "file_extension": ".py",
   "mimetype": "text/x-python",
   "name": "python",
   "nbconvert_exporter": "python",
   "pygments_lexer": "ipython3",
   "version": "3.7.7"
  }
 },
 "nbformat": 4,
 "nbformat_minor": 4
}
